{
 "cells": [
  {
   "cell_type": "code",
   "execution_count": 2,
   "id": "6a517f0f",
   "metadata": {},
   "outputs": [],
   "source": [
    "import pandas as pd\n",
    "import pyspark\n",
    "from pyspark.sql import SparkSession\n",
    "from pyspark.sql.functions import *\n",
    "from pyspark.sql.types import *\n",
    "import matplotlib.pyplot as plt\n",
    "import numpy as np\n",
    "from matplotlib import colors\n",
    "from matplotlib.ticker import PercentFormatter\n",
    "import seaborn as sns\n",
    "import warnings\n",
    "warnings.filterwarnings('ignore')"
   ]
  },
  {
   "cell_type": "code",
   "execution_count": 8,
   "id": "ca51f1a7",
   "metadata": {},
   "outputs": [],
   "source": [
    "spark=SparkSession.builder.appName('Practice').getOrCreate()"
   ]
  },
  {
   "cell_type": "code",
   "execution_count": 9,
   "id": "04d7794b",
   "metadata": {},
   "outputs": [],
   "source": [
    "#Reding file to sprak data fram\n",
    "dfs = spark.read.csv(r\"C:\\Users\\admin\\Desktop\\Projects\\TA Project\\Data\\cookie_cats.csv\", header=True, inferSchema=True)"
   ]
  },
  {
   "cell_type": "code",
   "execution_count": 3,
   "id": "65dafe0d",
   "metadata": {},
   "outputs": [],
   "source": [
    "# Reading data frame into pandas data frame\n",
    "dfp = pd.read_csv(r\"C:\\Users\\admin\\Desktop\\Projects\\TA Project\\Data\\cookie_cats.csv\")\n",
    "# df_p = dfs.toPandas()"
   ]
  },
  {
   "cell_type": "code",
   "execution_count": 13,
   "id": "8ab5a427",
   "metadata": {
    "scrolled": true
   },
   "outputs": [
    {
     "name": "stdout",
     "output_type": "stream",
     "text": [
      "+------+-------+--------------+-----------+-----------+\n",
      "|userid|version|sum_gamerounds|retention_1|retention_7|\n",
      "+------+-------+--------------+-----------+-----------+\n",
      "|   116|gate_30|             3|      false|      false|\n",
      "|   337|gate_30|            38|       true|      false|\n",
      "|   377|gate_40|           165|       true|      false|\n",
      "|   483|gate_40|             1|      false|      false|\n",
      "|   488|gate_40|           179|       true|       true|\n",
      "+------+-------+--------------+-----------+-----------+\n",
      "only showing top 5 rows\n",
      "\n"
     ]
    }
   ],
   "source": [
    "dfs.show(5)"
   ]
  },
  {
   "cell_type": "code",
   "execution_count": 26,
   "id": "9f18fdd0",
   "metadata": {},
   "outputs": [
    {
     "data": {
      "text/plain": [
       "[('userid', 'int'),\n",
       " ('version', 'string'),\n",
       " ('sum_gamerounds', 'int'),\n",
       " ('retention_1', 'boolean'),\n",
       " ('retention_7', 'boolean')]"
      ]
     },
     "execution_count": 26,
     "metadata": {},
     "output_type": "execute_result"
    }
   ],
   "source": [
    "dfs.dtypes"
   ]
  },
  {
   "cell_type": "code",
   "execution_count": 28,
   "id": "2c9f1ac7",
   "metadata": {},
   "outputs": [
    {
     "name": "stdout",
     "output_type": "stream",
     "text": [
      "+-------+-----------------+-------+------------------+\n",
      "|summary|           userid|version|    sum_gamerounds|\n",
      "+-------+-----------------+-------+------------------+\n",
      "|  count|            90189|  90189|             90189|\n",
      "|   mean|4998412.234496446|   null|  51.8724567297564|\n",
      "| stddev|2883285.607700425|   null|195.05085754200826|\n",
      "|    min|              116|gate_30|                 0|\n",
      "|    max|          9999861|gate_40|             49854|\n",
      "+-------+-----------------+-------+------------------+\n",
      "\n"
     ]
    }
   ],
   "source": [
    "dfs.describe().show()"
   ]
  },
  {
   "cell_type": "code",
   "execution_count": 6,
   "id": "d887bc30",
   "metadata": {},
   "outputs": [
    {
     "data": {
      "text/plain": [
       "userid            0\n",
       "version           0\n",
       "sum_gamerounds    0\n",
       "retention_1       0\n",
       "retention_7       0\n",
       "dtype: int64"
      ]
     },
     "execution_count": 6,
     "metadata": {},
     "output_type": "execute_result"
    }
   ],
   "source": [
    "#No Nulls in any column\n",
    "dfp.isna().sum()"
   ]
  },
  {
   "cell_type": "code",
   "execution_count": 33,
   "id": "36cfaf32",
   "metadata": {},
   "outputs": [
    {
     "name": "stdout",
     "output_type": "stream",
     "text": [
      "+-------+\n",
      "|version|\n",
      "+-------+\n",
      "|gate_30|\n",
      "|gate_40|\n",
      "+-------+\n",
      "\n"
     ]
    }
   ],
   "source": [
    "#only 2 different versions of game in this dataset\n",
    "dfs.select(\"version\").distinct().show()"
   ]
  },
  {
   "cell_type": "code",
   "execution_count": 11,
   "id": "b3d798dd",
   "metadata": {},
   "outputs": [],
   "source": [
    "#creating temp View from Dataframe so that we can run SQL queries on it\n",
    "dfs.createOrReplaceTempView(\"GAME_DATA\")"
   ]
  },
  {
   "cell_type": "code",
   "execution_count": 12,
   "id": "5acd38e7",
   "metadata": {},
   "outputs": [
    {
     "name": "stdout",
     "output_type": "stream",
     "text": [
      "+-------+-----------+\n",
      "|version|cnt_user_id|\n",
      "+-------+-----------+\n",
      "|gate_30|      44700|\n",
      "|gate_40|      45489|\n",
      "+-------+-----------+\n",
      "\n"
     ]
    }
   ],
   "source": [
    "spark.sql(\"SELECT version, count(userid) as cnt_user_id FROM GAME_DATA group by version\").show()"
   ]
  },
  {
   "cell_type": "markdown",
   "id": "29a286db",
   "metadata": {},
   "source": [
    "#### Assignment Questions\n",
    "1. Which tools would you need to build a sustainable data infrastructure and why?\n",
    "\n",
    "2. What is the overall retention rate for the game? How does this rate differ by game\n",
    "version?\n",
    "\n",
    "3. What is the distribution of game rounds played? How does this distribution differ by\n",
    "game version?\n",
    "\n",
    "4. What is the average number of game rounds played before a player makes an in-app\n",
    "purchase? How does this average differ by game version?\n",
    "\n",
    "5. What is the correlation between the number of game rounds played and retention? Does\n",
    "this correlation differ by game version?\n",
    "\n",
    "6. What are the most popular game events, and how do these events impact player\n",
    "retention and monetization?\n",
    "\n",
    "7. How do advertising campaigns impact player acquisition, retention, and monetization?\n",
    "\n",
    "8. Can you identify any trends or patterns in player behaviour, such as differences in\n",
    "behaviour by player country, platform, or game version?\n",
    "\n",
    "9. What recommendations would you make to improve player engagement and\n",
    "monetization, based on your analysis?\n",
    "\n",
    "10. Please describe the data funnel for performance ad campaigns until the install/activation\n",
    "event\n",
    "\n",
    "11. Please identify and explain the different metrics between web2 and web3 gaming for\n",
    "monetisation and player engagement\n",
    "\n",
    "12. What are the main challenges for web3 gaming data engineers and Why?"
   ]
  },
  {
   "cell_type": "code",
   "execution_count": 86,
   "id": "fe0e2305",
   "metadata": {},
   "outputs": [
    {
     "name": "stdout",
     "output_type": "stream",
     "text": [
      "retention_count:43752, total_userid_count:90189\n",
      "Overall Retention Rate:48.511459268868705%\n"
     ]
    }
   ],
   "source": [
    "# 2.What is the overall retention rate for the game? How does this rate differ by game version?\n",
    "# Retention Rate formula used = count(retention_1 = true or retention_1 = true)/total_count_userid * 100\n",
    "retention_count = spark.sql(\"SELECT count(*) FROM GAME_DATA where (retention_1 or retention_7)\").collect()[0][0]\n",
    "total_userid_count = spark.sql(\"SELECT count(distinct userid) FROM GAME_DATA \").collect()[0][0]\n",
    "print(f\"retention_count:{retention_count}, total_userid_count:{total_userid_count}\")\n",
    "print(f\"Overall Retention Rate:{retention_count/total_userid_count*100}%\")"
   ]
  },
  {
   "cell_type": "code",
   "execution_count": 87,
   "id": "d0eec746",
   "metadata": {},
   "outputs": [],
   "source": [
    "gate_30_count = spark.sql(\"SELECT version,count(*) as retentained_users FROM GAME_DATA where (retention_1 or retention_7) group by version order by version\").collect()[0][1]\n",
    "gate_40_count = spark.sql(\"SELECT version,count(*) as retentained_users FROM GAME_DATA where (retention_1 or retention_7) group by version order by version\").collect()[1][1]\n",
    "gate_30_total = spark.sql(\"SELECT version,count(*) as retentained_users FROM GAME_DATA group by version order by version\").collect()[0][1]\n",
    "gate_40_total = spark.sql(\"SELECT version,count(*) as retentained_users FROM GAME_DATA group by version order by version\").collect()[1][1]"
   ]
  },
  {
   "cell_type": "code",
   "execution_count": 92,
   "id": "8dc1fc83",
   "metadata": {
    "collapsed": true
   },
   "outputs": [
    {
     "name": "stdout",
     "output_type": "stream",
     "text": [
      "\n",
      "\n",
      "Retention rate is not differing by game version !\n",
      "\n",
      "\n",
      "================================================================================\n",
      "gate_30_retained_users_count:21860, gate_30_total_userid_count:44700\n",
      "Gate_30 Retention Rate:48.903803131991054%\n",
      "================================================================================\n",
      "gate_40_retained_users_count:21892, gate_40_total_userid_count:45489\n",
      "Gate_40 Retention Rate:48.125920552221416%\n",
      "================================================================================\n"
     ]
    }
   ],
   "source": [
    "print(\"\\n\\nRetention rate is not differing by game version !\\n\\n\")\n",
    "print(\"=\"*80)\n",
    "print(f\"gate_30_retained_users_count:{gate_30_count}, gate_30_total_userid_count:{gate_30_total}\")\n",
    "print(f\"Gate_30 Retention Rate:{gate_30_count/gate_30_total*100}%\")\n",
    "print(\"=\"*80)\n",
    "print(f\"gate_40_retained_users_count:{gate_40_count}, gate_40_total_userid_count:{gate_40_total}\")\n",
    "print(f\"Gate_40 Retention Rate:{gate_40_count/gate_40_total*100}%\")\n",
    "print(\"=\"*80)"
   ]
  },
  {
   "cell_type": "code",
   "execution_count": 64,
   "id": "e0f0d25a",
   "metadata": {},
   "outputs": [],
   "source": [
    "retention_count = spark.sql(\"SELECT count(*) FROM GAME_DATA where (retention_1 or retention_7)\").collect()[0][0]\n",
    "total_userid_count = spark.sql(\"SELECT count(distinct userid) FROM GAME_DATA \").collect()[0][0]"
   ]
  },
  {
   "cell_type": "code",
   "execution_count": 63,
   "id": "7c755932",
   "metadata": {},
   "outputs": [
    {
     "name": "stdout",
     "output_type": "stream",
     "text": [
      "retention_count:43752, total_userid_count:90189\n",
      "Overall Retention Rate:48.511459268868705%\n"
     ]
    }
   ],
   "source": [
    "print(f\"retention_count:{retention_count}, total_userid_count:{total_userid_count}\")\n",
    "print(f\"Overall Retention Rate:{retention_count/total_userid_count*100}%\")"
   ]
  },
  {
   "cell_type": "code",
   "execution_count": 115,
   "id": "d3c7220c",
   "metadata": {},
   "outputs": [
    {
     "name": "stdout",
     "output_type": "stream",
     "text": [
      "+-------------------+-------------------+\n",
      "|min(sum_gamerounds)|max(sum_gamerounds)|\n",
      "+-------------------+-------------------+\n",
      "|                  0|              49854|\n",
      "+-------------------+-------------------+\n",
      "\n"
     ]
    }
   ],
   "source": [
    " spark.sql(\"SELECT min(sum_gamerounds),max(sum_gamerounds) FROM GAME_DATA\").show()"
   ]
  },
  {
   "cell_type": "code",
   "execution_count": 33,
   "id": "59268663",
   "metadata": {},
   "outputs": [
    {
     "data": {
      "image/png": "[encoded data removed]",
      "text/plain": [
       "<Figure size 300x300 with 1 Axes>"
      ]
     },
     "metadata": {},
     "output_type": "display_data"
    }
   ],
   "source": [
    "fig, ax = plt.subplots(figsize=(3, 3))\n",
    "sns.distplot(dfp[\"sum_gamerounds\"], ax=ax)\n",
    "plt.show()"
   ]
  },
  {
   "cell_type": "code",
   "execution_count": 38,
   "id": "e99f2ee8",
   "metadata": {},
   "outputs": [
    {
     "data": {
      "image/png": "[encoded data removed]",
      "text/plain": [
       "<Figure size 300x300 with 1 Axes>"
      ]
     },
     "metadata": {},
     "output_type": "display_data"
    }
   ],
   "source": [
    "fig, ax = plt.subplots(figsize=(3, 3))\n",
    "sns.distplot(dfp[\"sum_gamerounds\"].loc[dfp[\"sum_gamerounds\"] < 100],ax=ax)\n",
    "plt.show()"
   ]
  },
  {
   "cell_type": "code",
   "execution_count": 56,
   "id": "04ba38ec",
   "metadata": {},
   "outputs": [
    {
     "data": {
      "image/png": "[encoded data removed]",
      "text/plain": [
       "<Figure size 300x300 with 1 Axes>"
      ]
     },
     "metadata": {},
     "output_type": "display_data"
    }
   ],
   "source": [
    "fig, ax = plt.subplots(figsize=(3, 3))\n",
    "sns.distplot(dfp[\"sum_gamerounds\"].loc[(dfp[\"sum_gamerounds\"] < 100) & (dfp[\"version\"] == \"gate_30\") ],ax=ax, label=\"gate_30\")\n",
    "plt.show()"
   ]
  },
  {
   "cell_type": "code",
   "execution_count": 50,
   "id": "f500ef45",
   "metadata": {},
   "outputs": [
    {
     "data": {
      "image/png": "[encoded data removed]",
      "text/plain": [
       "<Figure size 300x300 with 1 Axes>"
      ]
     },
     "metadata": {},
     "output_type": "display_data"
    }
   ],
   "source": [
    "fig, ax = plt.subplots(figsize=(3, 3))\n",
    "sns.distplot(dfp[\"sum_gamerounds\"].loc[(dfp[\"sum_gamerounds\"] < 100) & (dfp[\"version\"] == \"gate_40\") ],ax=ax)\n",
    "plt.show()"
   ]
  },
  {
   "cell_type": "code",
   "execution_count": 51,
   "id": "eb724f7a",
   "metadata": {},
   "outputs": [],
   "source": [
    "# 3 distrubution is skewed to left that means frequency of sum_games is more for less value of sum_games"
   ]
  },
  {
   "cell_type": "code",
   "execution_count": 85,
   "id": "17962312",
   "metadata": {},
   "outputs": [
    {
     "data": {
      "text/html": [
       "<div>\n",
       "<style scoped>\n",
       "    .dataframe tbody tr th:only-of-type {\n",
       "        vertical-align: middle;\n",
       "    }\n",
       "\n",
       "    .dataframe tbody tr th {\n",
       "        vertical-align: top;\n",
       "    }\n",
       "\n",
       "    .dataframe thead th {\n",
       "        text-align: right;\n",
       "    }\n",
       "</style>\n",
       "<table border=\"1\" class=\"dataframe\">\n",
       "  <thead>\n",
       "    <tr style=\"text-align: right;\">\n",
       "      <th></th>\n",
       "      <th>sum_gamerounds</th>\n",
       "      <th>retention_1</th>\n",
       "      <th>retention_7</th>\n",
       "    </tr>\n",
       "  </thead>\n",
       "  <tbody>\n",
       "    <tr>\n",
       "      <th>sum_gamerounds</th>\n",
       "      <td>1.0</td>\n",
       "      <td>0.197603</td>\n",
       "      <td>0.279288</td>\n",
       "    </tr>\n",
       "  </tbody>\n",
       "</table>\n",
       "</div>"
      ],
      "text/plain": [
       "                sum_gamerounds  retention_1  retention_7\n",
       "sum_gamerounds             1.0     0.197603     0.279288"
      ]
     },
     "execution_count": 85,
     "metadata": {},
     "output_type": "execute_result"
    }
   ],
   "source": [
    "#5 Correlation\n",
    "# Over all correlation\n",
    "dfp[[\"sum_gamerounds\",\"retention_1\",\"retention_7\"]].corr().head(1)"
   ]
  },
  {
   "cell_type": "code",
   "execution_count": 84,
   "id": "e2468e92",
   "metadata": {},
   "outputs": [
    {
     "data": {
      "text/html": [
       "<div>\n",
       "<style scoped>\n",
       "    .dataframe tbody tr th:only-of-type {\n",
       "        vertical-align: middle;\n",
       "    }\n",
       "\n",
       "    .dataframe tbody tr th {\n",
       "        vertical-align: top;\n",
       "    }\n",
       "\n",
       "    .dataframe thead th {\n",
       "        text-align: right;\n",
       "    }\n",
       "</style>\n",
       "<table border=\"1\" class=\"dataframe\">\n",
       "  <thead>\n",
       "    <tr style=\"text-align: right;\">\n",
       "      <th></th>\n",
       "      <th>sum_gamerounds</th>\n",
       "      <th>retention_1</th>\n",
       "      <th>retention_7</th>\n",
       "    </tr>\n",
       "  </thead>\n",
       "  <tbody>\n",
       "    <tr>\n",
       "      <th>sum_gamerounds</th>\n",
       "      <td>1.0</td>\n",
       "      <td>0.14729</td>\n",
       "      <td>0.214284</td>\n",
       "    </tr>\n",
       "  </tbody>\n",
       "</table>\n",
       "</div>"
      ],
      "text/plain": [
       "                sum_gamerounds  retention_1  retention_7\n",
       "sum_gamerounds             1.0      0.14729     0.214284"
      ]
     },
     "execution_count": 84,
     "metadata": {},
     "output_type": "execute_result"
    }
   ],
   "source": [
    "#gate_30 version correlation\n",
    "dfp[[\"sum_gamerounds\",\"retention_1\",\"retention_7\"]].loc[dfp[\"version\"] == \"gate_30\"].corr().head(1)"
   ]
  },
  {
   "cell_type": "code",
   "execution_count": 83,
   "id": "951f07d5",
   "metadata": {},
   "outputs": [
    {
     "data": {
      "text/html": [
       "<div>\n",
       "<style scoped>\n",
       "    .dataframe tbody tr th:only-of-type {\n",
       "        vertical-align: middle;\n",
       "    }\n",
       "\n",
       "    .dataframe tbody tr th {\n",
       "        vertical-align: top;\n",
       "    }\n",
       "\n",
       "    .dataframe thead th {\n",
       "        text-align: right;\n",
       "    }\n",
       "</style>\n",
       "<table border=\"1\" class=\"dataframe\">\n",
       "  <thead>\n",
       "    <tr style=\"text-align: right;\">\n",
       "      <th></th>\n",
       "      <th>sum_gamerounds</th>\n",
       "      <th>retention_1</th>\n",
       "      <th>retention_7</th>\n",
       "    </tr>\n",
       "  </thead>\n",
       "  <tbody>\n",
       "    <tr>\n",
       "      <th>sum_gamerounds</th>\n",
       "      <td>1.0</td>\n",
       "      <td>0.380046</td>\n",
       "      <td>0.522188</td>\n",
       "    </tr>\n",
       "  </tbody>\n",
       "</table>\n",
       "</div>"
      ],
      "text/plain": [
       "                sum_gamerounds  retention_1  retention_7\n",
       "sum_gamerounds             1.0     0.380046     0.522188"
      ]
     },
     "execution_count": 83,
     "metadata": {},
     "output_type": "execute_result"
    }
   ],
   "source": [
    "#gate_40 version correlation\n",
    "dfp[[\"sum_gamerounds\",\"retention_1\",\"retention_7\"]].loc[dfp[\"version\"] == \"gate_40\"].corr().head(1)"
   ]
  },
  {
   "cell_type": "code",
   "execution_count": 86,
   "id": "ba0bce61",
   "metadata": {},
   "outputs": [],
   "source": [
    "# sum_gamerounds correlation rate over all is 0.197603,0.279288 with retention_1 and retention_2"
   ]
  },
  {
   "cell_type": "code",
   "execution_count": 88,
   "id": "6ea7e2a3",
   "metadata": {},
   "outputs": [
    {
     "name": "stdout",
     "output_type": "stream",
     "text": [
      "+-------+-----------+-----------+--------+\n",
      "|version|retention_1|retention_7|count(1)|\n",
      "+-------+-----------+-----------+--------+\n",
      "|gate_30|      false|      false|   22840|\n",
      "|gate_30|      false|       true|    1826|\n",
      "|gate_30|       true|      false|   13358|\n",
      "|gate_30|       true|       true|    6676|\n",
      "|gate_40|      false|      false|   23597|\n",
      "|gate_40|      false|       true|    1773|\n",
      "|gate_40|       true|      false|   13613|\n",
      "|gate_40|       true|       true|    6506|\n",
      "+-------+-----------+-----------+--------+\n",
      "\n"
     ]
    }
   ],
   "source": [
    "spark.sql(\"select version,retention_1,retention_7,count(*) from game_data group by version,retention_1,retention_7 order by version,retention_1,retention_7\").show()"
   ]
  },
  {
   "cell_type": "code",
   "execution_count": 89,
   "id": "3b5608ba",
   "metadata": {},
   "outputs": [],
   "source": [
    "# I do not observe any different Trend for different versions"
   ]
  },
  {
   "cell_type": "code",
   "execution_count": null,
   "id": "c3b4cc1f",
   "metadata": {},
   "outputs": [],
   "source": []
  },
  {
   "cell_type": "code",
   "execution_count": 91,
   "id": "4408bc69",
   "metadata": {},
   "outputs": [
    {
     "data": {
      "text/html": [
       "<div>\n",
       "<style scoped>\n",
       "    .dataframe tbody tr th:only-of-type {\n",
       "        vertical-align: middle;\n",
       "    }\n",
       "\n",
       "    .dataframe tbody tr th {\n",
       "        vertical-align: top;\n",
       "    }\n",
       "\n",
       "    .dataframe thead th {\n",
       "        text-align: right;\n",
       "    }\n",
       "</style>\n",
       "<table border=\"1\" class=\"dataframe\">\n",
       "  <thead>\n",
       "    <tr style=\"text-align: right;\">\n",
       "      <th></th>\n",
       "      <th>userid</th>\n",
       "      <th>version</th>\n",
       "      <th>sum_gamerounds</th>\n",
       "      <th>retention_1</th>\n",
       "      <th>retention_7</th>\n",
       "    </tr>\n",
       "  </thead>\n",
       "  <tbody>\n",
       "    <tr>\n",
       "      <th>0</th>\n",
       "      <td>116</td>\n",
       "      <td>gate_30</td>\n",
       "      <td>3</td>\n",
       "      <td>False</td>\n",
       "      <td>False</td>\n",
       "    </tr>\n",
       "    <tr>\n",
       "      <th>1</th>\n",
       "      <td>337</td>\n",
       "      <td>gate_30</td>\n",
       "      <td>38</td>\n",
       "      <td>True</td>\n",
       "      <td>False</td>\n",
       "    </tr>\n",
       "    <tr>\n",
       "      <th>2</th>\n",
       "      <td>377</td>\n",
       "      <td>gate_40</td>\n",
       "      <td>165</td>\n",
       "      <td>True</td>\n",
       "      <td>False</td>\n",
       "    </tr>\n",
       "    <tr>\n",
       "      <th>3</th>\n",
       "      <td>483</td>\n",
       "      <td>gate_40</td>\n",
       "      <td>1</td>\n",
       "      <td>False</td>\n",
       "      <td>False</td>\n",
       "    </tr>\n",
       "    <tr>\n",
       "      <th>4</th>\n",
       "      <td>488</td>\n",
       "      <td>gate_40</td>\n",
       "      <td>179</td>\n",
       "      <td>True</td>\n",
       "      <td>True</td>\n",
       "    </tr>\n",
       "  </tbody>\n",
       "</table>\n",
       "</div>"
      ],
      "text/plain": [
       "   userid  version  sum_gamerounds  retention_1  retention_7\n",
       "0     116  gate_30               3        False        False\n",
       "1     337  gate_30              38         True        False\n",
       "2     377  gate_40             165         True        False\n",
       "3     483  gate_40               1        False        False\n",
       "4     488  gate_40             179         True         True"
      ]
     },
     "execution_count": 91,
     "metadata": {},
     "output_type": "execute_result"
    }
   ],
   "source": [
    "spark.sql(\"select version,sum_gamerounds from game_data\")"
   ]
  },
  {
   "cell_type": "code",
   "execution_count": 13,
   "id": "7058a743",
   "metadata": {},
   "outputs": [
    {
     "name": "stdout",
     "output_type": "stream",
     "text": [
      "+-------+--------------+------------------+\n",
      "|version|sum_gamerounds|max_sum_gamerounds|\n",
      "+-------+--------------+------------------+\n",
      "|gate_30|       2344795|             49854|\n",
      "|gate_40|       2333530|              2640|\n",
      "+-------+--------------+------------------+\n",
      "\n"
     ]
    }
   ],
   "source": [
    "spark.sql(\"select version,sum(sum_gamerounds) as sum_gamerounds,max(sum_gamerounds) max_sum_gamerounds from game_data group by version\").show()"
   ]
  },
  {
   "cell_type": "code",
   "execution_count": null,
   "id": "d9f48fce",
   "metadata": {},
   "outputs": [],
   "source": []
  }
 ],
 "metadata": {
  "kernelspec": {
   "display_name": "Python 3 (ipykernel)",
   "language": "python",
   "name": "python3"
  },
  "language_info": {
   "codemirror_mode": {
    "name": "ipython",
    "version": 3
   },
   "file_extension": ".py",
   "mimetype": "text/x-python",
   "name": "python",
   "nbconvert_exporter": "python",
   "pygments_lexer": "ipython3",
   "version": "3.9.13"
  }
 },
 "nbformat": 4,
 "nbformat_minor": 5
}
